{
 "cells": [
  {
   "cell_type": "markdown",
   "metadata": {},
   "source": [
    "# Ch35t\n",
    "\n",
    "\n",
    "## Parser"
   ]
  },
  {
   "cell_type": "code",
   "execution_count": 1,
   "metadata": {},
   "outputs": [
    {
     "name": "stdout",
     "output_type": "stream",
     "text": [
      "None\n"
     ]
    }
   ],
   "source": [
    "# parser is used to parse a chest's json description\n",
    "import parser\n",
    "\n",
    "# if a Parser is instantiated with no input params, it\n",
    "# will have an empty json\n",
    "cp = parser.Parser()\n",
    "print(cp.json())"
   ]
  },
  {
   "cell_type": "markdown",
   "metadata": {},
   "source": [
    "## Manually load a chest\n",
    "### From file"
   ]
  },
  {
   "cell_type": "code",
   "execution_count": 2,
   "metadata": {},
   "outputs": [
    {
     "data": {
      "text/plain": [
       "{'hint': {'data': 'this is the hint', 'format': 'text/plain'},\n",
       " 'payload': {'data': 'this is the payload',\n",
       "  'format': 'text/plain',\n",
       "  'method': 'No method'}}"
      ]
     },
     "execution_count": 2,
     "metadata": {},
     "output_type": "execute_result"
    }
   ],
   "source": [
    "cp._load_file(\"chest_01.json\")\n",
    "cp.json()"
   ]
  },
  {
   "cell_type": "markdown",
   "metadata": {},
   "source": [
    "### From URL"
   ]
  },
  {
   "cell_type": "code",
   "execution_count": 3,
   "metadata": {},
   "outputs": [
    {
     "data": {
      "text/plain": [
       "{'hint': {'data': 'this is the hint', 'format': 'text/plain'},\n",
       " 'payload': {'data': 'this is the payload',\n",
       "  'format': 'text/plain',\n",
       "  'method': 'No method'}}"
      ]
     },
     "execution_count": 3,
     "metadata": {},
     "output_type": "execute_result"
    }
   ],
   "source": [
    "url = \"http://3564020356.org/zelif/chest_01.json\"\n",
    "cp._load_url(url)\n",
    "cp.json()"
   ]
  },
  {
   "cell_type": "markdown",
   "metadata": {},
   "source": [
    "### From string"
   ]
  },
  {
   "cell_type": "code",
   "execution_count": 4,
   "metadata": {},
   "outputs": [
    {
     "data": {
      "text/plain": [
       "{'hint': {'data': 'this is the hint', 'format': 'text/plain'},\n",
       " 'payload': {'data': 'this is the payload',\n",
       "  'format': 'text/plain',\n",
       "  'method': {'name': 'this is the method'}}}"
      ]
     },
     "execution_count": 4,
     "metadata": {},
     "output_type": "execute_result"
    }
   ],
   "source": [
    "### NOTE that method was a string before, here we use a dictionary\n",
    "### TODO: do we want to use both or always dictionary?\n",
    "jj = '''\n",
    "{\n",
    "\"hint\": { \"data\": \"this is the hint\", \"format\": \"text/plain\" },\n",
    "\"payload\": {\"data\": \"this is the payload\", \n",
    "  \"format\": \"text/plain\",\n",
    "  \"method\": {\"name\": \"this is the method\"}\n",
    "  }\n",
    "}\n",
    "'''\n",
    "cp._load_string(jj)\n",
    "cp.json()"
   ]
  },
  {
   "cell_type": "markdown",
   "metadata": {},
   "source": [
    "*NOTE* that manual load won't probably be required. If OCParser is initalised with a string that starts with `http://` or `https://` it will automatically call load_url, if it starts with `file://` it will automatically load a file, otherwise it will load a string. As we might want a URL to be considered as a string and not as a reference to some content, it is still possible to do that by instantiating an emtpy parser and loading the url as a string."
   ]
  },
  {
   "cell_type": "markdown",
   "metadata": {},
   "source": [
    "## Load automatically\n",
    "Parser is able to automatically detect whether the JSON chest description is being passed as an URL, a file, or a string"
   ]
  },
  {
   "cell_type": "code",
   "execution_count": 5,
   "metadata": {},
   "outputs": [
    {
     "data": {
      "text/plain": [
       "{'hint': {'data': 'This is a hint'},\n",
       " 'payload': {'data': 'this is the payload'}}"
      ]
     },
     "execution_count": 5,
     "metadata": {},
     "output_type": "execute_result"
    }
   ],
   "source": [
    "cp = parser.Parser('{\"hint\": {\"data\": \"This is a hint\"}, \"payload\": {\"data\": \"this is the payload\"}}')\n",
    "cp.json()"
   ]
  },
  {
   "cell_type": "code",
   "execution_count": 6,
   "metadata": {},
   "outputs": [
    {
     "data": {
      "text/plain": [
       "{'hint': {'data': 'this is the hint', 'format': 'text/plain'},\n",
       " 'payload': {'data': 'this is the payload',\n",
       "  'format': 'text/plain',\n",
       "  'method': 'No method'}}"
      ]
     },
     "execution_count": 6,
     "metadata": {},
     "output_type": "execute_result"
    }
   ],
   "source": [
    "cp = parser.Parser(\"http://3564020356.org/zelif/chest_01.json\")\n",
    "cp.json()"
   ]
  },
  {
   "cell_type": "code",
   "execution_count": 7,
   "metadata": {},
   "outputs": [
    {
     "data": {
      "text/plain": [
       "{'hint': {'data': 'this is the hint', 'format': 'text/plain'},\n",
       " 'payload': {'data': 'this is the payload',\n",
       "  'format': 'text/plain',\n",
       "  'method': 'No method'}}"
      ]
     },
     "execution_count": 7,
     "metadata": {},
     "output_type": "execute_result"
    }
   ],
   "source": [
    "cp = parser.Parser(\"file://chest_01.json\")\n",
    "cp.json()"
   ]
  },
  {
   "cell_type": "code",
   "execution_count": 8,
   "metadata": {},
   "outputs": [
    {
     "name": "stdout",
     "output_type": "stream",
     "text": [
      "[i] Hint\n",
      "    Origin: None\n",
      "    Data: this is the hint\n",
      "    Format: text/plain\n",
      "\n",
      "[i] Payload\n",
      "    Origin: None\n",
      "    Data: this is the payload\n",
      "    Format: text/plain\n",
      "    Method: No method\n",
      "\n"
     ]
    }
   ],
   "source": [
    "print(cp.hint())\n",
    "print(cp.payload())"
   ]
  },
  {
   "cell_type": "markdown",
   "metadata": {},
   "source": [
    "# Build hint object\n",
    "\n",
    "Every hint is characterised by some `data` content and a `format`. Depending on the format, the hint will be interpreted in different ways (see e.g. https://developer.mozilla.org/en-US/docs/Web/HTTP/Basics_of_HTTP/MIME_types/Common_types):\n",
    "\n",
    "* `text/plain`: data can be simply printed\n",
    "* `text/html`: html that needs to be interpreted/shown properly\n",
    "* `image/*`: data will be displayed by the appropriate application\n",
    "* `application/zip`: a zip file, to be unpacked in the chest directory\n",
    "* `application/octet-stream`: this is a generic file (perhaps one wants to make the hint a riddle too?)\n",
    "\n",
    "NOTE that:\n",
    "\n",
    "* Data URLs (https://developer.mozilla.org/en-US/docs/Web/HTTP/Basics_of_HTTP/Data_URLs) can be a good hint on how to embed data which is not just plain text, define mimetype, etc\n",
    "* if we want to have BOTH online and offline stuff, we could have an `origin` for URL origins, `format` for their remote formats, `data` for the actual data that is downloaded from the URL and base64-encoded to allow for offline access.\n",
    "\n",
    "SO:\n",
    "* the fields under `hint` are `origin`, `format`, and `data`\n",
    "* if we want to specify a hint by reference we provide `origin` (any URL) and `format` (the format of the data that will be returned by that URL, if the app has to parse it)\n",
    "* if we want to specify a hint by value we provide `data` in a way that recalls data URLs, i.e. as in\n",
    "```\n",
    "data:[<mediatype>][;base64],<data>\n",
    "```\n",
    "* `mediatype` is specified as `format` and if `origin` and `data` are both present they share the same mediatype. Also format is, by default, `text/plain` (perhaps do `text/plain;charset=US-ASCII`?)\n",
    "* `base64` is provided at the beginning of `data` optional if we want the data to be provided as encoded (great if we have binaries)\n",
    "* `data` is the actual data. Differently from data URLs, it is NOT provided as URI-encoded"
   ]
  },
  {
   "cell_type": "code",
   "execution_count": 11,
   "metadata": {},
   "outputs": [
    {
     "name": "stdout",
     "output_type": "stream",
     "text": [
      "this is the hint\n",
      "text/plain\n",
      "this is the hint\n",
      "text/plain\n"
     ]
    }
   ],
   "source": [
    "import hint as h\n",
    "\n",
    "jj = '''{\n",
    "\"hint\": { \n",
    "  \"data\": \"this is the hint\", \n",
    "  \"format\": \"text/plain\" }\n",
    "}'''\n",
    "\n",
    "cp._load_string(jj)\n",
    "hint = h.Hint(cp.json())\n",
    "print(hint.data)\n",
    "print(hint.format)\n",
    "\n",
    "### note that format is text/plain by default\n",
    "jj = '''{\n",
    "\"hint\": { \n",
    "  \"data\": \"this is the hint\"\n",
    "}\n",
    "}'''\n",
    "\n",
    "cp._load_string(jj)\n",
    "hint = h.Hint(cp.json())\n",
    "print(hint.data)\n",
    "print(hint.format)"
   ]
  },
  {
   "cell_type": "code",
   "execution_count": 12,
   "metadata": {},
   "outputs": [
    {
     "name": "stdout",
     "output_type": "stream",
     "text": [
      "{'hint': {'origin': 'http://3564020356.org/deserve.htm', 'format': 'text/html'}}\n",
      "[i] Hint\n",
      "    Origin: http://3564020356.org/deserve.htm\n",
      "    Data: None\n",
      "    Format: text/html\n",
      "\n"
     ]
    }
   ],
   "source": [
    "jj = '''{\n",
    "\"hint\": { \n",
    "  \"origin\": \"http://3564020356.org/deserve.htm\",\n",
    "  \"format\": \"text/html\"\n",
    "}\n",
    "}'''\n",
    "\n",
    "cp._load_string(jj)\n",
    "print(cp.json())\n",
    "hint = h.Hint(cp.json())\n",
    "print(hint)"
   ]
  },
  {
   "cell_type": "markdown",
   "metadata": {},
   "source": [
    "# Build payload"
   ]
  },
  {
   "cell_type": "code",
   "execution_count": 13,
   "metadata": {},
   "outputs": [
    {
     "name": "stdout",
     "output_type": "stream",
     "text": [
      "this is the payload\n",
      "text/plain\n"
     ]
    }
   ],
   "source": [
    "import payload as p\n",
    "\n",
    "jj = '''{\n",
    "\"payload\": { \n",
    "  \"data\": \"this is the payload\"\n",
    "}\n",
    "}'''\n",
    "\n",
    "cp._load_string(jj)\n",
    "cp.json()\n",
    "payload = p.Payload(cp.json())\n",
    "print(payload.data)\n",
    "print(payload.format)"
   ]
  },
  {
   "cell_type": "markdown",
   "metadata": {},
   "source": [
    "* TODO: add code for input- and output- formats"
   ]
  },
  {
   "cell_type": "code",
   "execution_count": 14,
   "metadata": {},
   "outputs": [
    {
     "name": "stdout",
     "output_type": "stream",
     "text": [
      "[i] Payload\n",
      "    Origin: None\n",
      "    Data: this is the payload\n",
      "    Format: text/plain\n",
      "    Method: None\n",
      "\n"
     ]
    }
   ],
   "source": [
    "print(payload)"
   ]
  },
  {
   "cell_type": "code",
   "execution_count": 15,
   "metadata": {},
   "outputs": [
    {
     "name": "stdout",
     "output_type": "stream",
     "text": [
      "[i] Hint\n",
      "    Origin: None\n",
      "    Data: MAL TIRRUEZF CR MAL RKZYIOL EX MAL OIY UAE RICF \"MAL ACWALRM DYEUPLFWL CR ME DYEU MAIM UL IZL RKZZEKYFLF GH OHRMLZH\"\n",
      "    Format: text/plain\n",
      "\n",
      "[i] Payload\n",
      "    Origin: None\n",
      "    Data: b535ffd9263f275c6747ec804fee198e\n",
      "    Format: text/plain\n",
      "    Method: md5\n",
      "\n"
     ]
    }
   ],
   "source": [
    "cp = parser.Parser(\"file://deserve.json\")\n",
    "cp.json()\n",
    "print(cp.hint())\n",
    "print(cp.payload())"
   ]
  },
  {
   "cell_type": "code",
   "execution_count": 16,
   "metadata": {},
   "outputs": [],
   "source": [
    "%load_ext autoreload\n",
    "%autoreload 2"
   ]
  },
  {
   "cell_type": "code",
   "execution_count": 21,
   "metadata": {},
   "outputs": [
    {
     "name": "stdout",
     "output_type": "stream",
     "text": [
      "Files are available in ./chests:\n",
      "riddle02/\n",
      "riddle02/+Ma's Reversing Riddle 02_files/\n",
      "riddle02/+Ma's Reversing Riddle 02_files/0c.zip\n",
      "riddle02/+Ma's Reversing Riddle 02_files/alice.gif\n",
      "riddle02/+Ma's Reversing Riddle 02_files/skull02.jpg\n",
      "riddle02/+Ma's Reversing Riddle 02.html\n",
      "\n"
     ]
    }
   ],
   "source": [
    "from ch35t import Chest\n",
    "\n",
    "c = Chest(\"file://riddle02.json\", chests_dir=\"./chests\")\n",
    "c.show_hint()"
   ]
  },
  {
   "cell_type": "code",
   "execution_count": 23,
   "metadata": {},
   "outputs": [
    {
     "name": "stdin",
     "output_type": "stream",
     "text": [
      " whatever\n"
     ]
    },
    {
     "name": "stdout",
     "output_type": "stream",
     "text": [
      "Wrong key\n"
     ]
    }
   ],
   "source": [
    "c.unlock()"
   ]
  },
  {
   "cell_type": "code",
   "execution_count": null,
   "metadata": {},
   "outputs": [],
   "source": []
  }
 ],
 "metadata": {
  "kernelspec": {
   "display_name": "Python 3 (ipykernel)",
   "language": "python",
   "name": "python3"
  },
  "language_info": {
   "codemirror_mode": {
    "name": "ipython",
    "version": 3
   },
   "file_extension": ".py",
   "mimetype": "text/x-python",
   "name": "python",
   "nbconvert_exporter": "python",
   "pygments_lexer": "ipython3",
   "version": "3.9.5"
  }
 },
 "nbformat": 4,
 "nbformat_minor": 4
}
